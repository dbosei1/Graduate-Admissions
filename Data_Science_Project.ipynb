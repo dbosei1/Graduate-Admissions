{
  "nbformat": 4,
  "nbformat_minor": 0,
  "metadata": {
    "colab": {
      "provenance": []
    },
    "kernelspec": {
      "name": "python3",
      "display_name": "Python 3"
    },
    "language_info": {
      "name": "python"
    }
  },
  "cells": [
    {
      "cell_type": "code",
      "execution_count": null,
      "metadata": {
        "id": "Oiq1A6BjPkXu"
      },
      "outputs": [],
      "source": [
        "import matplotlib.pyplot as plt, pandas as pd\n",
        "import numpy as np\n",
        "from sklearn.datasets import fetch_openml\n",
        "import seaborn as sns\n",
        "from sklearn.pipeline import Pipeline\n",
        "from sklearn.impute import SimpleImputer\n",
        "from sklearn.preprocessing import StandardScaler, OneHotEncoder\n",
        "from sklearn.compose import ColumnTransformer\n",
        "from sklearn.linear_model import LogisticRegression\n",
        "from sklearn.linear_model import LinearRegression\n",
        "from sklearn.model_selection import train_test_split\n",
        "from sklearn.model_selection import StratifiedKFold, GridSearchCV"
      ]
    },
    {
      "cell_type": "markdown",
      "source": [
        "# **David Baldwine Osei**\n",
        "# **001046496**\n",
        "### Title: Predicting the probability of acceptance in Graduate School"
      ],
      "metadata": {
        "id": "H7U8fFP6ZzA1"
      }
    },
    {
      "cell_type": "markdown",
      "source": [
        "#  **<center>Background</center>**"
      ],
      "metadata": {
        "id": "VWujeFa4lgTI"
      }
    },
    {
      "cell_type": "markdown",
      "source": [
        "A project based on the admission of students into Graduate School that aims to use a students GRE Score, TOEFL Score, Rating of University applied to, Statement of Purpose, Letters of Recommendation, Cummulative Grade Point Average and Research Experience to predict if he/she would be admitted into his/her university of choice.\n",
        "The data for this project can be found [here](https://www.kaggle.com/datasets/mohansacharya/graduate-admissions)."
      ],
      "metadata": {
        "id": "jBULZWpqnXlu"
      }
    },
    {
      "cell_type": "markdown",
      "source": [
        "# **<center>Data Preprocessing</center>**"
      ],
      "metadata": {
        "id": "zHp-67YqsZ0C"
      }
    },
    {
      "cell_type": "code",
      "source": [
        "df = pd.read_csv(\"/content/drive/MyDrive/Data Science 1 Project/Admission_Predict_Ver1.1.csv\")"
      ],
      "metadata": {
        "id": "iZ5eyijuZ4n-"
      },
      "execution_count": null,
      "outputs": []
    },
    {
      "cell_type": "code",
      "source": [
        "df"
      ],
      "metadata": {
        "colab": {
          "base_uri": "https://localhost:8080/",
          "height": 424
        },
        "id": "Zs0PuZmc2Eep",
        "outputId": "66baeed2-d9cb-4cea-d860-ba638f6b241b"
      },
      "execution_count": null,
      "outputs": [
        {
          "output_type": "execute_result",
          "data": {
            "text/plain": [
              "     Serial No.  GRE Score  TOEFL Score  University Rating  SOP  LOR   CGPA  \\\n",
              "0             1        337          118                  4  4.5   4.5  9.65   \n",
              "1             2        324          107                  4  4.0   4.5  8.87   \n",
              "2             3        316          104                  3  3.0   3.5  8.00   \n",
              "3             4        322          110                  3  3.5   2.5  8.67   \n",
              "4             5        314          103                  2  2.0   3.0  8.21   \n",
              "..          ...        ...          ...                ...  ...   ...   ...   \n",
              "495         496        332          108                  5  4.5   4.0  9.02   \n",
              "496         497        337          117                  5  5.0   5.0  9.87   \n",
              "497         498        330          120                  5  4.5   5.0  9.56   \n",
              "498         499        312          103                  4  4.0   5.0  8.43   \n",
              "499         500        327          113                  4  4.5   4.5  9.04   \n",
              "\n",
              "     Research  Chance of Admit   \n",
              "0           1              0.92  \n",
              "1           1              0.76  \n",
              "2           1              0.72  \n",
              "3           1              0.80  \n",
              "4           0              0.65  \n",
              "..        ...               ...  \n",
              "495         1              0.87  \n",
              "496         1              0.96  \n",
              "497         1              0.93  \n",
              "498         0              0.73  \n",
              "499         0              0.84  \n",
              "\n",
              "[500 rows x 9 columns]"
            ],
            "text/html": [
              "\n",
              "  <div id=\"df-c5607293-1335-4d57-b74c-e5b236f392ff\">\n",
              "    <div class=\"colab-df-container\">\n",
              "      <div>\n",
              "<style scoped>\n",
              "    .dataframe tbody tr th:only-of-type {\n",
              "        vertical-align: middle;\n",
              "    }\n",
              "\n",
              "    .dataframe tbody tr th {\n",
              "        vertical-align: top;\n",
              "    }\n",
              "\n",
              "    .dataframe thead th {\n",
              "        text-align: right;\n",
              "    }\n",
              "</style>\n",
              "<table border=\"1\" class=\"dataframe\">\n",
              "  <thead>\n",
              "    <tr style=\"text-align: right;\">\n",
              "      <th></th>\n",
              "      <th>Serial No.</th>\n",
              "      <th>GRE Score</th>\n",
              "      <th>TOEFL Score</th>\n",
              "      <th>University Rating</th>\n",
              "      <th>SOP</th>\n",
              "      <th>LOR</th>\n",
              "      <th>CGPA</th>\n",
              "      <th>Research</th>\n",
              "      <th>Chance of Admit</th>\n",
              "    </tr>\n",
              "  </thead>\n",
              "  <tbody>\n",
              "    <tr>\n",
              "      <th>0</th>\n",
              "      <td>1</td>\n",
              "      <td>337</td>\n",
              "      <td>118</td>\n",
              "      <td>4</td>\n",
              "      <td>4.5</td>\n",
              "      <td>4.5</td>\n",
              "      <td>9.65</td>\n",
              "      <td>1</td>\n",
              "      <td>0.92</td>\n",
              "    </tr>\n",
              "    <tr>\n",
              "      <th>1</th>\n",
              "      <td>2</td>\n",
              "      <td>324</td>\n",
              "      <td>107</td>\n",
              "      <td>4</td>\n",
              "      <td>4.0</td>\n",
              "      <td>4.5</td>\n",
              "      <td>8.87</td>\n",
              "      <td>1</td>\n",
              "      <td>0.76</td>\n",
              "    </tr>\n",
              "    <tr>\n",
              "      <th>2</th>\n",
              "      <td>3</td>\n",
              "      <td>316</td>\n",
              "      <td>104</td>\n",
              "      <td>3</td>\n",
              "      <td>3.0</td>\n",
              "      <td>3.5</td>\n",
              "      <td>8.00</td>\n",
              "      <td>1</td>\n",
              "      <td>0.72</td>\n",
              "    </tr>\n",
              "    <tr>\n",
              "      <th>3</th>\n",
              "      <td>4</td>\n",
              "      <td>322</td>\n",
              "      <td>110</td>\n",
              "      <td>3</td>\n",
              "      <td>3.5</td>\n",
              "      <td>2.5</td>\n",
              "      <td>8.67</td>\n",
              "      <td>1</td>\n",
              "      <td>0.80</td>\n",
              "    </tr>\n",
              "    <tr>\n",
              "      <th>4</th>\n",
              "      <td>5</td>\n",
              "      <td>314</td>\n",
              "      <td>103</td>\n",
              "      <td>2</td>\n",
              "      <td>2.0</td>\n",
              "      <td>3.0</td>\n",
              "      <td>8.21</td>\n",
              "      <td>0</td>\n",
              "      <td>0.65</td>\n",
              "    </tr>\n",
              "    <tr>\n",
              "      <th>...</th>\n",
              "      <td>...</td>\n",
              "      <td>...</td>\n",
              "      <td>...</td>\n",
              "      <td>...</td>\n",
              "      <td>...</td>\n",
              "      <td>...</td>\n",
              "      <td>...</td>\n",
              "      <td>...</td>\n",
              "      <td>...</td>\n",
              "    </tr>\n",
              "    <tr>\n",
              "      <th>495</th>\n",
              "      <td>496</td>\n",
              "      <td>332</td>\n",
              "      <td>108</td>\n",
              "      <td>5</td>\n",
              "      <td>4.5</td>\n",
              "      <td>4.0</td>\n",
              "      <td>9.02</td>\n",
              "      <td>1</td>\n",
              "      <td>0.87</td>\n",
              "    </tr>\n",
              "    <tr>\n",
              "      <th>496</th>\n",
              "      <td>497</td>\n",
              "      <td>337</td>\n",
              "      <td>117</td>\n",
              "      <td>5</td>\n",
              "      <td>5.0</td>\n",
              "      <td>5.0</td>\n",
              "      <td>9.87</td>\n",
              "      <td>1</td>\n",
              "      <td>0.96</td>\n",
              "    </tr>\n",
              "    <tr>\n",
              "      <th>497</th>\n",
              "      <td>498</td>\n",
              "      <td>330</td>\n",
              "      <td>120</td>\n",
              "      <td>5</td>\n",
              "      <td>4.5</td>\n",
              "      <td>5.0</td>\n",
              "      <td>9.56</td>\n",
              "      <td>1</td>\n",
              "      <td>0.93</td>\n",
              "    </tr>\n",
              "    <tr>\n",
              "      <th>498</th>\n",
              "      <td>499</td>\n",
              "      <td>312</td>\n",
              "      <td>103</td>\n",
              "      <td>4</td>\n",
              "      <td>4.0</td>\n",
              "      <td>5.0</td>\n",
              "      <td>8.43</td>\n",
              "      <td>0</td>\n",
              "      <td>0.73</td>\n",
              "    </tr>\n",
              "    <tr>\n",
              "      <th>499</th>\n",
              "      <td>500</td>\n",
              "      <td>327</td>\n",
              "      <td>113</td>\n",
              "      <td>4</td>\n",
              "      <td>4.5</td>\n",
              "      <td>4.5</td>\n",
              "      <td>9.04</td>\n",
              "      <td>0</td>\n",
              "      <td>0.84</td>\n",
              "    </tr>\n",
              "  </tbody>\n",
              "</table>\n",
              "<p>500 rows × 9 columns</p>\n",
              "</div>\n",
              "      <button class=\"colab-df-convert\" onclick=\"convertToInteractive('df-c5607293-1335-4d57-b74c-e5b236f392ff')\"\n",
              "              title=\"Convert this dataframe to an interactive table.\"\n",
              "              style=\"display:none;\">\n",
              "        \n",
              "  <svg xmlns=\"http://www.w3.org/2000/svg\" height=\"24px\"viewBox=\"0 0 24 24\"\n",
              "       width=\"24px\">\n",
              "    <path d=\"M0 0h24v24H0V0z\" fill=\"none\"/>\n",
              "    <path d=\"M18.56 5.44l.94 2.06.94-2.06 2.06-.94-2.06-.94-.94-2.06-.94 2.06-2.06.94zm-11 1L8.5 8.5l.94-2.06 2.06-.94-2.06-.94L8.5 2.5l-.94 2.06-2.06.94zm10 10l.94 2.06.94-2.06 2.06-.94-2.06-.94-.94-2.06-.94 2.06-2.06.94z\"/><path d=\"M17.41 7.96l-1.37-1.37c-.4-.4-.92-.59-1.43-.59-.52 0-1.04.2-1.43.59L10.3 9.45l-7.72 7.72c-.78.78-.78 2.05 0 2.83L4 21.41c.39.39.9.59 1.41.59.51 0 1.02-.2 1.41-.59l7.78-7.78 2.81-2.81c.8-.78.8-2.07 0-2.86zM5.41 20L4 18.59l7.72-7.72 1.47 1.35L5.41 20z\"/>\n",
              "  </svg>\n",
              "      </button>\n",
              "      \n",
              "  <style>\n",
              "    .colab-df-container {\n",
              "      display:flex;\n",
              "      flex-wrap:wrap;\n",
              "      gap: 12px;\n",
              "    }\n",
              "\n",
              "    .colab-df-convert {\n",
              "      background-color: #E8F0FE;\n",
              "      border: none;\n",
              "      border-radius: 50%;\n",
              "      cursor: pointer;\n",
              "      display: none;\n",
              "      fill: #1967D2;\n",
              "      height: 32px;\n",
              "      padding: 0 0 0 0;\n",
              "      width: 32px;\n",
              "    }\n",
              "\n",
              "    .colab-df-convert:hover {\n",
              "      background-color: #E2EBFA;\n",
              "      box-shadow: 0px 1px 2px rgba(60, 64, 67, 0.3), 0px 1px 3px 1px rgba(60, 64, 67, 0.15);\n",
              "      fill: #174EA6;\n",
              "    }\n",
              "\n",
              "    [theme=dark] .colab-df-convert {\n",
              "      background-color: #3B4455;\n",
              "      fill: #D2E3FC;\n",
              "    }\n",
              "\n",
              "    [theme=dark] .colab-df-convert:hover {\n",
              "      background-color: #434B5C;\n",
              "      box-shadow: 0px 1px 3px 1px rgba(0, 0, 0, 0.15);\n",
              "      filter: drop-shadow(0px 1px 2px rgba(0, 0, 0, 0.3));\n",
              "      fill: #FFFFFF;\n",
              "    }\n",
              "  </style>\n",
              "\n",
              "      <script>\n",
              "        const buttonEl =\n",
              "          document.querySelector('#df-c5607293-1335-4d57-b74c-e5b236f392ff button.colab-df-convert');\n",
              "        buttonEl.style.display =\n",
              "          google.colab.kernel.accessAllowed ? 'block' : 'none';\n",
              "\n",
              "        async function convertToInteractive(key) {\n",
              "          const element = document.querySelector('#df-c5607293-1335-4d57-b74c-e5b236f392ff');\n",
              "          const dataTable =\n",
              "            await google.colab.kernel.invokeFunction('convertToInteractive',\n",
              "                                                     [key], {});\n",
              "          if (!dataTable) return;\n",
              "\n",
              "          const docLinkHtml = 'Like what you see? Visit the ' +\n",
              "            '<a target=\"_blank\" href=https://colab.research.google.com/notebooks/data_table.ipynb>data table notebook</a>'\n",
              "            + ' to learn more about interactive tables.';\n",
              "          element.innerHTML = '';\n",
              "          dataTable['output_type'] = 'display_data';\n",
              "          await google.colab.output.renderOutput(dataTable, element);\n",
              "          const docLink = document.createElement('div');\n",
              "          docLink.innerHTML = docLinkHtml;\n",
              "          element.appendChild(docLink);\n",
              "        }\n",
              "      </script>\n",
              "    </div>\n",
              "  </div>\n",
              "  "
            ]
          },
          "metadata": {},
          "execution_count": 3
        }
      ]
    },
    {
      "cell_type": "markdown",
      "source": [
        "The goal of this project is to build a classification type of supervised learning.\n",
        "\n",
        "As seen above, the DataFrame above cannot be used for this type of classification because the intended target variable is continuous.\n",
        "\n",
        "To get the data in the form needed to build our preferred model, a new target column was created using the University Rating column and the continuous target column, Chance of Admit.\n",
        "\n",
        "The coditions used in creating this column is shown below:\n"
      ],
      "metadata": {
        "id": "Qj9Q-7NvJhvg"
      }
    },
    {
      "cell_type": "code",
      "source": [
        "df['Admitted'] = 0\n",
        "df\n",
        "\n",
        "for i in range(len(df)):\n",
        "    if df['University Rating'].loc[i] >= 4 and df['Chance of Admit '].loc[i] >= 0.90:\n",
        "        df['Admitted'].loc[i] = 1\n",
        "    elif df['University Rating'].loc[i] < 4 and 0.65 <= df['Chance of Admit '].loc[i] <= 1:\n",
        "        df['Admitted'].loc[i] = 1\n",
        "    else:\n",
        "        df['Admitted'].loc[i] = 0"
      ],
      "metadata": {
        "colab": {
          "base_uri": "https://localhost:8080/"
        },
        "id": "jel_HGajIVjy",
        "outputId": "d22b5951-8aa6-47f0-d744-9351d22ba044"
      },
      "execution_count": null,
      "outputs": [
        {
          "output_type": "stream",
          "name": "stderr",
          "text": [
            "/usr/local/lib/python3.7/dist-packages/pandas/core/indexing.py:1732: SettingWithCopyWarning: \n",
            "A value is trying to be set on a copy of a slice from a DataFrame\n",
            "\n",
            "See the caveats in the documentation: https://pandas.pydata.org/pandas-docs/stable/user_guide/indexing.html#returning-a-view-versus-a-copy\n",
            "  self._setitem_single_block(indexer, value, name)\n"
          ]
        }
      ]
    },
    {
      "cell_type": "markdown",
      "source": [
        "Now we save randomly make a selection of 100 samples as our holdout set."
      ],
      "metadata": {
        "id": "WyrwVTNLlBpA"
      }
    },
    {
      "cell_type": "code",
      "source": [
        "# df_holdout = df.sample(n = 100, random_state= 42)\n",
        "# df_holdout"
      ],
      "metadata": {
        "id": "ecGcygozIglo"
      },
      "execution_count": null,
      "outputs": []
    },
    {
      "cell_type": "markdown",
      "source": [
        "We now drop the Chance of Admit column since we would not need it for our model"
      ],
      "metadata": {
        "id": "kwdHV3VsvUpZ"
      }
    },
    {
      "cell_type": "code",
      "source": [
        "X = df.drop(df.columns[[0,-2,-1]], axis= 1)\n",
        "y = df['Admitted']\n",
        "\n",
        "# y_holdout = df_holdout['Admitted']\n",
        "# X_holdout = df_holdout.drop(df.columns[[0,-2,-1]], axis= 1)\n"
      ],
      "metadata": {
        "id": "H9LmU4MY2FYO"
      },
      "execution_count": null,
      "outputs": []
    },
    {
      "cell_type": "code",
      "source": [
        "X.isnull().any(), y.isnull().any()"
      ],
      "metadata": {
        "colab": {
          "base_uri": "https://localhost:8080/"
        },
        "id": "7KMpDh2VBFtZ",
        "outputId": "402d33d5-8bd6-4e43-d3a7-426c7bb0c8ea"
      },
      "execution_count": null,
      "outputs": [
        {
          "output_type": "execute_result",
          "data": {
            "text/plain": [
              "(GRE Score            False\n",
              " TOEFL Score          False\n",
              " University Rating    False\n",
              " SOP                  False\n",
              " LOR                  False\n",
              " CGPA                 False\n",
              " Research             False\n",
              " dtype: bool, False)"
            ]
          },
          "metadata": {},
          "execution_count": 8
        }
      ]
    },
    {
      "cell_type": "markdown",
      "source": [
        "It can be seen that there are no null value in the DataFrame. Hence there is no imputation needed in this project. We move on to perform some exploratory data analysis on our data"
      ],
      "metadata": {
        "id": "RF1VMG0stloA"
      }
    },
    {
      "cell_type": "markdown",
      "source": [
        "\n",
        "\n",
        "> # **Exploratory Data Analysis**\n",
        "\n",
        "\n",
        "\n",
        "\n"
      ],
      "metadata": {
        "id": "NVZxgls9H5gx"
      }
    },
    {
      "cell_type": "code",
      "source": [
        "plt.subplots(figsize=(12,5))\n",
        "correlation_mat=X.corr()\n",
        "sns.heatmap(correlation_mat,annot=True,cmap='RdPu')\n",
        "plt.title('Correlation between the variables')\n",
        "plt.xticks(rotation=45)"
      ],
      "metadata": {
        "colab": {
          "base_uri": "https://localhost:8080/",
          "height": 429
        },
        "id": "FPyNx3-9H4d7",
        "outputId": "b01e03fb-2ee2-4c95-92cf-d8af2b74d8ca"
      },
      "execution_count": null,
      "outputs": [
        {
          "output_type": "execute_result",
          "data": {
            "text/plain": [
              "(array([0.5, 1.5, 2.5, 3.5, 4.5, 5.5, 6.5]),\n",
              " <a list of 7 Text major ticklabel objects>)"
            ]
          },
          "metadata": {},
          "execution_count": 9
        },
        {
          "output_type": "display_data",
          "data": {
            "text/plain": [
              "<Figure size 864x360 with 2 Axes>"
            ],
            "image/png": "[encoded data removed]"
          },
          "metadata": {
            "needs_background": "light"
          }
        }
      ]
    },
    {
      "cell_type": "code",
      "source": [
        "fig , ax = plt.subplots(figsize=(6,4))\n",
        "sns.countplot(x='Admitted', data=df)\n",
        "plt.title(\"Number of Admitted & Rejected Students\")\n",
        "plt.show()"
      ],
      "metadata": {
        "colab": {
          "base_uri": "https://localhost:8080/",
          "height": 295
        },
        "id": "hii7fNF3hSqI",
        "outputId": "72bfc7ba-4ce4-40cd-8cd3-d0b36e94d301"
      },
      "execution_count": null,
      "outputs": [
        {
          "output_type": "display_data",
          "data": {
            "text/plain": [
              "<Figure size 432x288 with 1 Axes>"
            ],
            "image/png": "[encoded data removed]"
          },
          "metadata": {
            "needs_background": "light"
          }
        }
      ]
    },
    {
      "cell_type": "code",
      "source": [
        "fig, ax=plt.subplots(figsize=(8,6))\n",
        "sns.countplot(x='Admitted', data=df, hue='University Rating')\n",
        "ax.set_ylim(0,500)\n",
        "plt.title(\"Impact of University Rating on Admission\")\n",
        "plt.show()"
      ],
      "metadata": {
        "colab": {
          "base_uri": "https://localhost:8080/",
          "height": 404
        },
        "id": "N7V5h4heA0FV",
        "outputId": "f235e037-1baf-43fe-c7b1-d5f7d82c1867"
      },
      "execution_count": null,
      "outputs": [
        {
          "output_type": "display_data",
          "data": {
            "text/plain": [
              "<Figure size 576x432 with 1 Axes>"
            ],
            "image/png": "[encoded data removed]"
          },
          "metadata": {
            "needs_background": "light"
          }
        }
      ]
    },
    {
      "cell_type": "markdown",
      "source": [
        "We can say that for high ranked universities it's relatively more difficult to get admitted"
      ],
      "metadata": {
        "id": "eh76ZOFRBkfR"
      }
    },
    {
      "cell_type": "code",
      "source": [
        "fig, ax=plt.subplots(1,figsize=(8,6))\n",
        "sns.boxplot(x='Admitted',y='GRE Score', data=df)\n",
        "plt.title(\"Admitted vs GRE Score\")\n",
        "plt.show()"
      ],
      "metadata": {
        "colab": {
          "base_uri": "https://localhost:8080/",
          "height": 404
        },
        "id": "X6CdeC5FFQac",
        "outputId": "ce761718-00eb-4d6c-c0b3-b9fd00f7d997"
      },
      "execution_count": null,
      "outputs": [
        {
          "output_type": "display_data",
          "data": {
            "text/plain": [
              "<Figure size 576x432 with 1 Axes>"
            ],
            "image/png": "[encoded data removed]"
          },
          "metadata": {
            "needs_background": "light"
          }
        }
      ]
    },
    {
      "cell_type": "markdown",
      "source": [
        "Average GRE Scores for admitted students are higher than those not admitted"
      ],
      "metadata": {
        "id": "NnVqUKzBGBZ1"
      }
    },
    {
      "cell_type": "code",
      "source": [
        "fig, ax=plt.subplots(1,figsize=(8,6))\n",
        "sns.boxplot(x='Admitted',y='CGPA', data=df)\n",
        "plt.title(\"Admitted vs CGPA\")\n",
        "plt.show()"
      ],
      "metadata": {
        "colab": {
          "base_uri": "https://localhost:8080/",
          "height": 404
        },
        "id": "-WVz9DGvGh5K",
        "outputId": "5ca12297-4286-4ff6-d0c3-787c98fd4059"
      },
      "execution_count": null,
      "outputs": [
        {
          "output_type": "display_data",
          "data": {
            "text/plain": [
              "<Figure size 576x432 with 1 Axes>"
            ],
            "image/png": "[encoded data removed]"
          },
          "metadata": {
            "needs_background": "light"
          }
        }
      ]
    },
    {
      "cell_type": "markdown",
      "source": [
        "Average CGPA for admitted students are higher than those not admitted"
      ],
      "metadata": {
        "id": "N6k_jxaFHObD"
      }
    },
    {
      "cell_type": "markdown",
      "source": [
        " #  **Supervised Model Building and Selection**"
      ],
      "metadata": {
        "id": "cOLHxStobq0i"
      }
    },
    {
      "cell_type": "markdown",
      "source": [
        "> ## **K Nearest Neighbors(KNN)**  "
      ],
      "metadata": {
        "id": "Vy1SYQgmhTI3"
      }
    },
    {
      "cell_type": "code",
      "source": [
        "from sklearn.neighbors import KNeighborsClassifier\n",
        "from sklearn import metrics\n",
        "from sklearn.metrics import confusion_matrix,plot_confusion_matrix\n",
        "from sklearn.metrics import accuracy_score\n",
        "\n",
        "k_range = range(1,20)\n",
        "\n",
        "X_train, X_test, y_train, y_test = train_test_split(X, y, test_size=0.2, random_state=2)\n",
        "\n",
        "\n",
        "######################################\n",
        "\n",
        "k_range = range(1,20)\n",
        "\n",
        "knn = KNeighborsClassifier()\n",
        "\n",
        "param_grid = {'n_neighbors': range(1,20),\n",
        "              'metric': ['seuclidean', 'euclidean'],\n",
        "              'weights': ['uniform','distance']\n",
        "}\n",
        "\n",
        "\n",
        "grid = GridSearchCV(knn, param_grid, cv=10, scoring='accuracy')\n",
        "\n",
        "grid_search = grid.fit(X_train, y_train)\n",
        "\n",
        "print(grid.best_estimator_)\n",
        "\n",
        "accuracy = grid_search.best_score_ *100\n",
        "print(\"Our cross validation score for our modeling set with tuning is : {:.2f}%\".format(accuracy) )\n",
        "\n",
        "plot_confusion_matrix(grid,X_train, y_train,values_format='d' )\n",
        "\n",
        "\n",
        "\n",
        "#######################################"
      ],
      "metadata": {
        "id": "n88kQYwHJOKO",
        "colab": {
          "base_uri": "https://localhost:8080/",
          "height": 907
        },
        "outputId": "375f3a4e-5f77-4d9f-d57a-720f16e4d2d0"
      },
      "execution_count": null,
      "outputs": [
        {
          "output_type": "stream",
          "name": "stdout",
          "text": [
            "KNeighborsClassifier(metric='euclidean', n_neighbors=12, weights='distance')\n",
            "Our cross validation score for our modeling set with tuning is : 71.75%\n"
          ]
        },
        {
          "output_type": "stream",
          "name": "stderr",
          "text": [
            "/usr/local/lib/python3.7/dist-packages/sklearn/model_selection/_validation.py:372: FitFailedWarning: \n",
            "380 fits failed out of a total of 760.\n",
            "The score on these train-test partitions for these parameters will be set to nan.\n",
            "If these failures are not expected, you can try to debug them by setting error_score='raise'.\n",
            "\n",
            "Below are more details about the failures:\n",
            "--------------------------------------------------------------------------------\n",
            "380 fits failed with the following error:\n",
            "Traceback (most recent call last):\n",
            "  File \"/usr/local/lib/python3.7/dist-packages/sklearn/model_selection/_validation.py\", line 680, in _fit_and_score\n",
            "    estimator.fit(X_train, y_train, **fit_params)\n",
            "  File \"/usr/local/lib/python3.7/dist-packages/sklearn/neighbors/_classification.py\", line 198, in fit\n",
            "    return self._fit(X, y)\n",
            "  File \"/usr/local/lib/python3.7/dist-packages/sklearn/neighbors/_base.py\", line 553, in _fit\n",
            "    **self.effective_metric_params_,\n",
            "  File \"sklearn/neighbors/_binary_tree.pxi\", line 966, in sklearn.neighbors._ball_tree.BinaryTree.__init__\n",
            "  File \"sklearn/metrics/_dist_metrics.pyx\", line 280, in sklearn.metrics._dist_metrics.DistanceMetric.get_metric\n",
            "  File \"sklearn/metrics/_dist_metrics.pyx\", line 462, in sklearn.metrics._dist_metrics.SEuclideanDistance.__init__\n",
            "TypeError: __init__() takes exactly 1 positional argument (0 given)\n",
            "\n",
            "  warnings.warn(some_fits_failed_message, FitFailedWarning)\n",
            "/usr/local/lib/python3.7/dist-packages/sklearn/model_selection/_search.py:972: UserWarning: One or more of the test scores are non-finite: [   nan    nan    nan    nan    nan    nan    nan    nan    nan    nan\n",
            "    nan    nan    nan    nan    nan    nan    nan    nan    nan    nan\n",
            "    nan    nan    nan    nan    nan    nan    nan    nan    nan    nan\n",
            "    nan    nan    nan    nan    nan    nan    nan    nan 0.6725 0.6725\n",
            " 0.655  0.67   0.6925 0.69   0.6975 0.6975 0.6925 0.69   0.6975 0.69\n",
            " 0.7025 0.7    0.7    0.7125 0.6925 0.7    0.6825 0.705  0.7125 0.7125\n",
            " 0.715  0.7175 0.71   0.7125 0.7025 0.695  0.7    0.695  0.7075 0.695\n",
            " 0.7    0.695  0.695  0.695  0.6925 0.69  ]\n",
            "  category=UserWarning,\n",
            "/usr/local/lib/python3.7/dist-packages/sklearn/utils/deprecation.py:87: FutureWarning: Function plot_confusion_matrix is deprecated; Function `plot_confusion_matrix` is deprecated in 1.0 and will be removed in 1.2. Use one of the class methods: ConfusionMatrixDisplay.from_predictions or ConfusionMatrixDisplay.from_estimator.\n",
            "  warnings.warn(msg, category=FutureWarning)\n"
          ]
        },
        {
          "output_type": "execute_result",
          "data": {
            "text/plain": [
              "<sklearn.metrics._plot.confusion_matrix.ConfusionMatrixDisplay at 0x7fa408835ad0>"
            ]
          },
          "metadata": {},
          "execution_count": 14
        },
        {
          "output_type": "display_data",
          "data": {
            "text/plain": [
              "<Figure size 432x288 with 2 Axes>"
            ],
            "image/png": "[encoded data removed]"
          },
          "metadata": {
            "needs_background": "light"
          }
        }
      ]
    },
    {
      "cell_type": "markdown",
      "source": [
        "For our final model we can choose the following parameters: metric='euclidean', n_neighbors=12, weights='distance' and retrain the model with all the available data. And that will be our final model which is ready to make predictions.\n",
        "\n"
      ],
      "metadata": {
        "id": "FPEzHh5DxG0w"
      }
    },
    {
      "cell_type": "markdown",
      "source": [],
      "metadata": {
        "id": "B3BLFGUruSZM"
      }
    },
    {
      "cell_type": "code",
      "source": [
        "#Testing Accuray of Model to holdout set\n",
        "\n",
        "knn_model = KNeighborsClassifier(metric='euclidean', n_neighbors=12, weights='distance')\n",
        "knn_model.fit(X_train, y_train)\n",
        "\n",
        "y_test_hat=knn_model.predict(X_test)\n",
        "\n",
        "test_accuracy=accuracy_score(y_test,y_test_hat)*100\n",
        "print(\"Our generalization score with the holdout dataset is : {:.2f}%\".format(test_accuracy) )\n",
        "\n",
        "plot_confusion_matrix(grid,X_test, y_test,values_format='d')\n",
        "\n",
        "# knn = KNeighborsClassifier(metric='euclidean', n_neighbors=12, weights='distance')\n",
        "# knn.fit(X,y)"
      ],
      "metadata": {
        "colab": {
          "base_uri": "https://localhost:8080/",
          "height": 372
        },
        "id": "j-uPH_oMyLMf",
        "outputId": "b613ab1e-ced4-4f4f-b552-dc24edda3ffd"
      },
      "execution_count": null,
      "outputs": [
        {
          "output_type": "stream",
          "name": "stdout",
          "text": [
            "Our generalization score with the holdout dataset is : 76.00%\n"
          ]
        },
        {
          "output_type": "stream",
          "name": "stderr",
          "text": [
            "/usr/local/lib/python3.7/dist-packages/sklearn/utils/deprecation.py:87: FutureWarning: Function plot_confusion_matrix is deprecated; Function `plot_confusion_matrix` is deprecated in 1.0 and will be removed in 1.2. Use one of the class methods: ConfusionMatrixDisplay.from_predictions or ConfusionMatrixDisplay.from_estimator.\n",
            "  warnings.warn(msg, category=FutureWarning)\n"
          ]
        },
        {
          "output_type": "execute_result",
          "data": {
            "text/plain": [
              "<sklearn.metrics._plot.confusion_matrix.ConfusionMatrixDisplay at 0x7fa4087f21d0>"
            ]
          },
          "metadata": {},
          "execution_count": 15
        },
        {
          "output_type": "display_data",
          "data": {
            "text/plain": [
              "<Figure size 432x288 with 2 Axes>"
            ],
            "image/png": "[encoded data removed]"
          },
          "metadata": {
            "needs_background": "light"
          }
        }
      ]
    },
    {
      "cell_type": "markdown",
      "source": [
        "It can be seen that our final model has a generalization score of 76% and a cross validation score of 71.75%. Thus there's no over or underfitting in our model. The exact number of prediction made right and wrong by the model can be seen in the confusion matrix above."
      ],
      "metadata": {
        "id": "8qGEbuz8x8IN"
      }
    },
    {
      "cell_type": "markdown",
      "source": [
        "> ## **Support Vector Machine(SVM)**"
      ],
      "metadata": {
        "id": "1u7GP6nenNQA"
      }
    },
    {
      "cell_type": "code",
      "source": [
        "# from sklearn.metrics import classification_report, confusion_matrix\n",
        "from sklearn.svm import SVC\n",
        "from sklearn.model_selection import train_test_split\n",
        "from sklearn.metrics import accuracy_score\n",
        "from sklearn.metrics import confusion_matrix,plot_confusion_matrix\n",
        "\n",
        "X_train, X_test, y_train, y_test = train_test_split(X, y, test_size=0.2, random_state=8)\n",
        "###########################\n",
        "k_range = range(1,20)\n",
        "\n",
        "support_V = SVC()\n",
        "\n",
        "param_grid = {'C': range(1,20),\n",
        "            'kernel': ['linear', 'rbf'],#, 'rbf', 'sigmoid', 'precomputed'],\n",
        "            #'degree': range(1,3),\n",
        "            'gamma' : ['scale', 'auto']\n",
        "}\n",
        "\n",
        "\n",
        "grid = GridSearchCV(support_V, param_grid, cv = 5)# refit=True, verbose=3)\n",
        "\n",
        "grid_search = grid.fit(X_train, y_train)\n",
        "\n",
        "print(grid.best_estimator_)\n",
        "\n",
        "accuracy = grid_search.best_score_ *100\n",
        "print(\"Our cross validation score for our modeling set with tuning is : {:.2f}%\".format(accuracy) )\n",
        "\n",
        "plot_confusion_matrix(grid,X_train, y_train,values_format='d' )\n",
        "\n",
        "\n"
      ],
      "metadata": {
        "colab": {
          "base_uri": "https://localhost:8080/",
          "height": 386
        },
        "id": "8ycYE3F3Y8s-",
        "outputId": "de12e301-f790-4e44-df55-6802626ef2ba"
      },
      "execution_count": null,
      "outputs": [
        {
          "output_type": "stream",
          "name": "stdout",
          "text": [
            "SVC(C=2, gamma='auto')\n",
            "Our cross validation score for our modeling set with tuning is : 73.25%\n"
          ]
        },
        {
          "output_type": "stream",
          "name": "stderr",
          "text": [
            "/usr/local/lib/python3.7/dist-packages/sklearn/utils/deprecation.py:87: FutureWarning: Function plot_confusion_matrix is deprecated; Function `plot_confusion_matrix` is deprecated in 1.0 and will be removed in 1.2. Use one of the class methods: ConfusionMatrixDisplay.from_predictions or ConfusionMatrixDisplay.from_estimator.\n",
            "  warnings.warn(msg, category=FutureWarning)\n"
          ]
        },
        {
          "output_type": "execute_result",
          "data": {
            "text/plain": [
              "<sklearn.metrics._plot.confusion_matrix.ConfusionMatrixDisplay at 0x7fa40866ce50>"
            ]
          },
          "metadata": {},
          "execution_count": 16
        },
        {
          "output_type": "display_data",
          "data": {
            "text/plain": [
              "<Figure size 432x288 with 2 Axes>"
            ],
            "image/png": "[encoded data removed]"
          },
          "metadata": {
            "needs_background": "light"
          }
        }
      ]
    },
    {
      "cell_type": "code",
      "source": [
        "#Testing Accuray of Model to holdout set\n",
        "\n",
        "support_V_model = grid.best_estimator_\n",
        "\n",
        "support_V_model.fit(X_train, y_train)\n",
        "\n",
        "y_test_hat=support_V_model.predict(X_test)\n",
        "\n",
        "test_accuracy=accuracy_score(y_test,y_test_hat)*100\n",
        "print(\"Our generalization score with the holdout dataset is : {:.2f}%\".format(test_accuracy) )\n",
        "\n",
        "plot_confusion_matrix(grid,X_test, y_test,values_format='d' )\n"
      ],
      "metadata": {
        "colab": {
          "base_uri": "https://localhost:8080/",
          "height": 368
        },
        "id": "2NtGhC2__Ei0",
        "outputId": "00c51e98-20e4-4d91-e2b5-81e1cb556f39"
      },
      "execution_count": null,
      "outputs": [
        {
          "output_type": "stream",
          "name": "stdout",
          "text": [
            "Our generalization score with the holdout dataset is : 81.00%\n"
          ]
        },
        {
          "output_type": "stream",
          "name": "stderr",
          "text": [
            "/usr/local/lib/python3.7/dist-packages/sklearn/utils/deprecation.py:87: FutureWarning: Function plot_confusion_matrix is deprecated; Function `plot_confusion_matrix` is deprecated in 1.0 and will be removed in 1.2. Use one of the class methods: ConfusionMatrixDisplay.from_predictions or ConfusionMatrixDisplay.from_estimator.\n",
            "  warnings.warn(msg, category=FutureWarning)\n"
          ]
        },
        {
          "output_type": "execute_result",
          "data": {
            "text/plain": [
              "<sklearn.metrics._plot.confusion_matrix.ConfusionMatrixDisplay at 0x7fa408937510>"
            ]
          },
          "metadata": {},
          "execution_count": 17
        },
        {
          "output_type": "display_data",
          "data": {
            "text/plain": [
              "<Figure size 432x288 with 2 Axes>"
            ],
            "image/png": "[encoded data removed]"
          },
          "metadata": {
            "needs_background": "light"
          }
        }
      ]
    },
    {
      "cell_type": "markdown",
      "source": [
        "It can be seen that our final model has a generalization score of 81% and a cross validation score of 73.25%. Thus there's no over or underfitting in our model. The exact number of prediction made right and wrong by the model can be seen in the confusion matrix above."
      ],
      "metadata": {
        "id": "4TZYpVj0BlIr"
      }
    },
    {
      "cell_type": "code",
      "source": [],
      "metadata": {
        "id": "9UcW2oKZ5lZP"
      },
      "execution_count": null,
      "outputs": []
    },
    {
      "cell_type": "markdown",
      "source": [
        "> ## **Naive Bayes**"
      ],
      "metadata": {
        "id": "N5nvcKnGCQW0"
      }
    },
    {
      "cell_type": "code",
      "source": [
        "from sklearn.naive_bayes import GaussianNB,MultinomialNB\n",
        "from sklearn.model_selection import train_test_split, GridSearchCV, StratifiedKFold\n",
        "from sklearn.metrics import accuracy_score\n",
        "from sklearn.metrics import confusion_matrix,plot_confusion_matrix\n",
        "\n",
        "# for i in range(1,20):\n",
        "\n",
        "X_train, X_test, y_train, y_test = train_test_split(X, y, test_size=0.2, random_state=14)\n",
        "###########################\n",
        "#k_range = range(1,20)\n",
        "\n",
        "skf = StratifiedKFold(n_splits=5)\n",
        "gnb = GaussianNB()\n",
        "\n",
        "param_grid = { }\n",
        "\n",
        "\n",
        "grid = GridSearchCV(gnb, param_grid=param_grid, cv = skf, return_train_score=True)# refit=True, verbose=3)\n",
        "\n",
        "grid_search = grid.fit(X_train, y_train)\n",
        "\n",
        "print(grid.best_estimator_)\n",
        "\n",
        "accuracy = grid_search.best_score_ *100\n",
        "print(\"Our cross validation score for our modeling set with tuning is : {:.2f}%\".format(accuracy) )\n",
        "\n",
        "plot_confusion_matrix(grid,X_test, y_test,values_format='d' )\n",
        "\n"
      ],
      "metadata": {
        "colab": {
          "base_uri": "https://localhost:8080/",
          "height": 386
        },
        "id": "ZShZHeiatvQm",
        "outputId": "8a3382bb-dcce-4920-94c3-0ac9b6309275"
      },
      "execution_count": null,
      "outputs": [
        {
          "output_type": "stream",
          "name": "stdout",
          "text": [
            "GaussianNB()\n",
            "Our cross validation score for our modeling set with tuning is : 60.50%\n"
          ]
        },
        {
          "output_type": "stream",
          "name": "stderr",
          "text": [
            "/usr/local/lib/python3.7/dist-packages/sklearn/utils/deprecation.py:87: FutureWarning: Function plot_confusion_matrix is deprecated; Function `plot_confusion_matrix` is deprecated in 1.0 and will be removed in 1.2. Use one of the class methods: ConfusionMatrixDisplay.from_predictions or ConfusionMatrixDisplay.from_estimator.\n",
            "  warnings.warn(msg, category=FutureWarning)\n"
          ]
        },
        {
          "output_type": "execute_result",
          "data": {
            "text/plain": [
              "<sklearn.metrics._plot.confusion_matrix.ConfusionMatrixDisplay at 0x7fa4246055d0>"
            ]
          },
          "metadata": {},
          "execution_count": 18
        },
        {
          "output_type": "display_data",
          "data": {
            "text/plain": [
              "<Figure size 432x288 with 2 Axes>"
            ],
            "image/png": "[encoded data removed]"
          },
          "metadata": {
            "needs_background": "light"
          }
        }
      ]
    },
    {
      "cell_type": "code",
      "source": [
        "#Testing Accuray of Model to test set\n",
        "\n",
        "gnb_model = grid.best_estimator_\n",
        "\n",
        "gnb_model.fit(X_train, y_train)\n",
        "\n",
        "y_test_hat=gnb_model.predict(X_test)\n",
        "\n",
        "test_accuracy=accuracy_score(y_test,y_test_hat)*100\n",
        "print(\"Our generalization score with the holdout dataset is : {:.2f}%\".format(test_accuracy) )\n",
        "\n",
        "plot_confusion_matrix(grid,X_test, y_test,values_format='d' )\n"
      ],
      "metadata": {
        "colab": {
          "base_uri": "https://localhost:8080/",
          "height": 368
        },
        "id": "Mv4yKb3fA7PF",
        "outputId": "f1847534-a375-46cc-ef8b-745bf649ed01"
      },
      "execution_count": null,
      "outputs": [
        {
          "output_type": "stream",
          "name": "stdout",
          "text": [
            "Our generalization score with the holdout dataset is : 72.00%\n"
          ]
        },
        {
          "output_type": "stream",
          "name": "stderr",
          "text": [
            "/usr/local/lib/python3.7/dist-packages/sklearn/utils/deprecation.py:87: FutureWarning: Function plot_confusion_matrix is deprecated; Function `plot_confusion_matrix` is deprecated in 1.0 and will be removed in 1.2. Use one of the class methods: ConfusionMatrixDisplay.from_predictions or ConfusionMatrixDisplay.from_estimator.\n",
            "  warnings.warn(msg, category=FutureWarning)\n"
          ]
        },
        {
          "output_type": "execute_result",
          "data": {
            "text/plain": [
              "<sklearn.metrics._plot.confusion_matrix.ConfusionMatrixDisplay at 0x7fa40c7e7bd0>"
            ]
          },
          "metadata": {},
          "execution_count": 19
        },
        {
          "output_type": "display_data",
          "data": {
            "text/plain": [
              "<Figure size 432x288 with 2 Axes>"
            ],
            "image/png": "[encoded data removed]"
          },
          "metadata": {
            "needs_background": "light"
          }
        }
      ]
    },
    {
      "cell_type": "markdown",
      "source": [
        "It can be seen that our final model has a generalization score of 72% and a cross validation score of 60.50%. Thus there's no over or underfitting in our model. The exact number of prediction made right and wrong by the model can be seen in the confusion matrix above."
      ],
      "metadata": {
        "id": "hVeiR7XZZkhZ"
      }
    },
    {
      "cell_type": "markdown",
      "source": [
        "> ## **Random Forest**"
      ],
      "metadata": {
        "id": "u1-6-4J5-F_F"
      }
    },
    {
      "cell_type": "code",
      "source": [
        "from sklearn.ensemble import RandomForestClassifier\n",
        "from sklearn.model_selection import train_test_split, GridSearchCV, StratifiedKFold\n",
        "from sklearn.metrics import accuracy_score\n",
        "from sklearn.metrics import confusion_matrix,plot_confusion_matrix\n",
        "\n",
        "# for i in range(1,20):\n",
        "\n",
        "X_train, X_test, y_train, y_test = train_test_split(X, y, test_size=0.2, random_state=7)\n",
        "###########################\n",
        "#k_range = range(1,20)\n",
        "\n",
        "rfc=RandomForestClassifier(random_state=42)\n",
        "\n",
        "param_grid = {\n",
        "            # 'random_state': [30,42],\n",
        "            'n_estimators': [200, 500],\n",
        "            'max_features': ['auto', 'sqrt', 'log2'],\n",
        "            'max_depth' : [4,5,6,7,8],\n",
        "            'criterion' :['gini', 'entropy']\n",
        "}\n",
        "\n",
        "\n",
        "grid = GridSearchCV(rfc, param_grid=param_grid, cv = 5, return_train_score=True)\n",
        "\n",
        "grid_search = grid.fit(X_train, y_train)\n",
        "\n",
        "print(grid.best_estimator_)\n",
        "\n",
        "accuracy = grid_search.best_score_ *100\n",
        "print(\"Our cross validation score for our modeling set with tuning is : {:.2f}%\".format(accuracy) )\n",
        "\n",
        "plot_confusion_matrix(grid,X_train, y_train,values_format='d' )\n",
        "\n",
        "\n",
        "\n",
        "\n",
        "\n",
        "\n"
      ],
      "metadata": {
        "colab": {
          "base_uri": "https://localhost:8080/",
          "height": 403
        },
        "id": "vzuiVAjZtxtr",
        "outputId": "ab9e21fc-5bc5-465a-c2f5-8cdcd305e477"
      },
      "execution_count": null,
      "outputs": [
        {
          "output_type": "stream",
          "name": "stdout",
          "text": [
            "RandomForestClassifier(criterion='entropy', max_depth=5, n_estimators=200,\n",
            "                       random_state=42)\n",
            "Our cross validation score for our modeling set with tuning is : 83.25%\n"
          ]
        },
        {
          "output_type": "stream",
          "name": "stderr",
          "text": [
            "/usr/local/lib/python3.7/dist-packages/sklearn/utils/deprecation.py:87: FutureWarning: Function plot_confusion_matrix is deprecated; Function `plot_confusion_matrix` is deprecated in 1.0 and will be removed in 1.2. Use one of the class methods: ConfusionMatrixDisplay.from_predictions or ConfusionMatrixDisplay.from_estimator.\n",
            "  warnings.warn(msg, category=FutureWarning)\n"
          ]
        },
        {
          "output_type": "execute_result",
          "data": {
            "text/plain": [
              "<sklearn.metrics._plot.confusion_matrix.ConfusionMatrixDisplay at 0x7fa408f25750>"
            ]
          },
          "metadata": {},
          "execution_count": 20
        },
        {
          "output_type": "display_data",
          "data": {
            "text/plain": [
              "<Figure size 432x288 with 2 Axes>"
            ],
            "image/png": "[encoded data removed]"
          },
          "metadata": {
            "needs_background": "light"
          }
        }
      ]
    },
    {
      "cell_type": "code",
      "source": [
        "rfc_model=grid.best_estimator_\n",
        "\n",
        "rfc_model.fit(X_train, y_train)\n",
        "\n",
        "y_test_hat=rfc_model.predict(X_test)\n",
        "\n",
        "test_accuracy=accuracy_score(y_test, y_test_hat)*100\n",
        "print(\"Our generalization score with the holdout dataset is : {:.2f}%\".format(test_accuracy) )\n",
        "\n",
        "plot_confusion_matrix(grid,X_test, y_test,values_format='d' )\n",
        "\n"
      ],
      "metadata": {
        "colab": {
          "base_uri": "https://localhost:8080/",
          "height": 368
        },
        "id": "WMFlqKNGDv9s",
        "outputId": "a6cf8d4b-883b-4b81-a0b3-037d8c371042"
      },
      "execution_count": null,
      "outputs": [
        {
          "output_type": "stream",
          "name": "stdout",
          "text": [
            "Our generalization score with the holdout dataset is : 91.00%\n"
          ]
        },
        {
          "output_type": "stream",
          "name": "stderr",
          "text": [
            "/usr/local/lib/python3.7/dist-packages/sklearn/utils/deprecation.py:87: FutureWarning: Function plot_confusion_matrix is deprecated; Function `plot_confusion_matrix` is deprecated in 1.0 and will be removed in 1.2. Use one of the class methods: ConfusionMatrixDisplay.from_predictions or ConfusionMatrixDisplay.from_estimator.\n",
            "  warnings.warn(msg, category=FutureWarning)\n"
          ]
        },
        {
          "output_type": "execute_result",
          "data": {
            "text/plain": [
              "<sklearn.metrics._plot.confusion_matrix.ConfusionMatrixDisplay at 0x7fa408a6e690>"
            ]
          },
          "metadata": {},
          "execution_count": 21
        },
        {
          "output_type": "display_data",
          "data": {
            "text/plain": [
              "<Figure size 432x288 with 2 Axes>"
            ],
            "image/png": "[encoded data removed]"
          },
          "metadata": {
            "needs_background": "light"
          }
        }
      ]
    },
    {
      "cell_type": "markdown",
      "source": [
        "It can be seen that our final model has a generalization score of 91% and a cross validation score of 83.25%. Thus there's no over or underfitting in our model. The exact number of prediction made right and wrong by the model can be seen in the confusion matrix above."
      ],
      "metadata": {
        "id": "ch-87ib0qvmO"
      }
    },
    {
      "cell_type": "markdown",
      "source": [
        "# Stacking"
      ],
      "metadata": {
        "id": "XTAY7CFQy28N"
      }
    },
    {
      "cell_type": "markdown",
      "source": [
        "Stacking or Stacked Generalization is an ensemble machine learning algorithm.\n",
        "\n",
        "It uses a meta-learning algorithm to learn how to best combine the predictions from two or more base machine learning algorithms.\n",
        "\n",
        "The benefit of stacking is that it can harness the capabilities of a range of well-performing models on a classification or regression task and make predictions that have better performance than any single model in the ensemble."
      ],
      "metadata": {
        "id": "-CoE9wb5y7Mk"
      }
    },
    {
      "cell_type": "code",
      "source": [
        "from sklearn.ensemble import StackingClassifier\n",
        "\n",
        "Stack_model  = StackingClassifier([('KNN', knn_model),('SVM', support_V_model), ('NB',gnb_model) ,('RFC', rfc_model)],\n",
        "                                  final_estimator=RandomForestClassifier())\n",
        "\n",
        "Stack_model.fit(X_train, y_train)\n",
        "Stack_model.score(X_train, y_train)\n",
        "\n",
        "print(Stack_model.fit(X_train, y_train))\n",
        "print(Stack_model.score(X_test, y_test))"
      ],
      "metadata": {
        "colab": {
          "base_uri": "https://localhost:8080/"
        },
        "id": "ld3oPZmYyGUi",
        "outputId": "f6cef202-c98e-4bc7-a0f3-aeb95d6f96ad"
      },
      "execution_count": null,
      "outputs": [
        {
          "output_type": "stream",
          "name": "stdout",
          "text": [
            "StackingClassifier(estimators=[('KNN',\n",
            "                                KNeighborsClassifier(metric='euclidean',\n",
            "                                                     n_neighbors=12,\n",
            "                                                     weights='distance')),\n",
            "                               ('SVM', SVC(C=2, gamma='auto')),\n",
            "                               ('NB', GaussianNB()),\n",
            "                               ('RFC',\n",
            "                                RandomForestClassifier(criterion='entropy',\n",
            "                                                       max_depth=5,\n",
            "                                                       n_estimators=200,\n",
            "                                                       random_state=42))],\n",
            "                   final_estimator=RandomForestClassifier())\n",
            "0.84\n"
          ]
        }
      ]
    },
    {
      "cell_type": "markdown",
      "source": [
        "# Conclusion"
      ],
      "metadata": {
        "id": "XJKRW5HVbh-J"
      }
    },
    {
      "cell_type": "markdown",
      "source": [
        "We can therefore conclude that amongst all the models developed, the model developed by the Random Forest algorithm seems to be the most efficient since it has the largest genearalization score of **91%**."
      ],
      "metadata": {
        "id": "WXEAOQdurRpc"
      }
    },
    {
      "cell_type": "markdown",
      "source": [
        "# References"
      ],
      "metadata": {
        "id": "ewJmGd78sH0F"
      }
    },
    {
      "cell_type": "markdown",
      "source": [
        "\n",
        "\n",
        "*   [Data Source](https://www.kaggle.com/datasets/mohansacharya/graduate-admissions)\n",
        "*   [K Nearest Neighbors](https://towardsdatascience.com/knn-using-scikit-learn-c6bed765be75)\n",
        "*  [Support Vector Machine](https://scikit-learn.org/stable/modules/generated/sklearn.svm.SVC.html)\n",
        "* [Naive Bayes](https://scikit-learn.org/stable/modules/generated/sklearn.neighbors.KNeighborsClassifier.html)\n",
        "* [Random Forest](https://www.kaggle.com/code/sociopath00/random-forest-using-gridsearchcv/notebook)\n",
        "\n",
        "\n",
        "\n",
        "\n",
        "\n"
      ],
      "metadata": {
        "id": "SasPyiHSsL1C"
      }
    }
  ]
}